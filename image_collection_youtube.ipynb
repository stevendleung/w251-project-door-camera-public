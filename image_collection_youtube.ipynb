{
 "cells": [
  {
   "cell_type": "code",
   "execution_count": 5,
   "metadata": {},
   "outputs": [],
   "source": [
    "import urllib\n",
    "from bs4 import BeautifulSoup\n",
    "from pytube import YouTube\n",
    "import cv2\n",
    "import os\n",
    "import glob"
   ]
  },
  {
   "cell_type": "markdown",
   "metadata": {},
   "source": [
    "## Manual Method"
   ]
  },
  {
   "cell_type": "code",
   "execution_count": 9,
   "metadata": {},
   "outputs": [],
   "source": [
    "vid_urls = ['https://www.youtube.com/watch?v=N3pZ3S5ZZwk',\n",
    "            'https://www.youtube.com/watch?v=xxXZ3aQwL_k',\n",
    "            'https://www.youtube.com/watch?v=xqCgO24eDQ4',\n",
    "            'https://www.youtube.com/watch?v=5J5u9_f4vE0',\n",
    "            'https://www.youtube.com/watch?v=2JyRZW4nnLA',\n",
    "            'https://www.youtube.com/watch?v=PDdeR-qolIM',\n",
    "            'https://www.youtube.com/watch?v=xMcrzQ2D7o8',\n",
    "            'https://www.youtube.com/watch?v=Fy4G9rDimvA',\n",
    "            'https://www.youtube.com/watch?v=HpIM-ZwBVmw',\n",
    "            'https://www.youtube.com/watch?v=Fq_cS8Xkjq0',\n",
    "            'https://www.youtube.com/watch?v=9NZ_bbxkSBE',\n",
    "            'https://www.youtube.com/watch?v=a99U82W2fYk',\n",
    "            'https://www.youtube.com/watch?v=mJVPKIr1ygM',\n",
    "            'https://www.youtube.com/watch?v=CIDLYHojOW0',\n",
    "            'https://www.youtube.com/watch?v=MKEo_EbplOE',\n",
    "            'https://www.youtube.com/watch?v=KKjWkP388eU',\n",
    "            'https://www.youtube.com/watch?v=0LHreT0qFEI',\n",
    "            'https://www.youtube.com/watch?v=IwUWRPpKYns',\n",
    "            'https://www.youtube.com/watch?v=sw7NHLV2dsQ'\n",
    "\n",
    "           ]"
   ]
  },
  {
   "cell_type": "code",
   "execution_count": 10,
   "metadata": {},
   "outputs": [
    {
     "name": "stdout",
     "output_type": "stream",
     "text": [
      "Task Completed!\n",
      "Task Completed!\n",
      "Task Completed!\n",
      "Task Completed!\n",
      "Task Completed!\n",
      "Task Completed!\n",
      "Task Completed!\n",
      "Task Completed!\n",
      "Task Completed!\n",
      "Task Completed!\n",
      "Task Completed!\n",
      "Task Completed!\n",
      "Task Completed!\n",
      "Task Completed!\n",
      "Task Completed!\n",
      "Task Completed!\n",
      "Task Completed!\n",
      "Task Completed!\n",
      "Task Completed!\n",
      "Full Task Completed!\n"
     ]
    }
   ],
   "source": [
    "\n",
    "#where to save \n",
    "SAVE_PATH = 'youtube_scraping'\n",
    "  \n",
    "#link of the video to be downloaded \n",
    "for i in vid_urls: \n",
    "    try: \n",
    "          \n",
    "        # object creation using YouTube\n",
    "        # which was imported in the beginning \n",
    "        yt = YouTube(i) \n",
    "    except: \n",
    "          \n",
    "        #to handle exception \n",
    "        print(\"Connection Error\") \n",
    "      \n",
    "    # get the video with the extension and\n",
    "    # resolution passed in the get() function \n",
    "\n",
    "    try: \n",
    "\n",
    "        stream = yt.streams.get_by_itag(22)\n",
    "        stream.download(SAVE_PATH)\n",
    "        print('Task Completed!') \n",
    "    except: \n",
    "        try:\n",
    "            stream = yt.streams.get_by_itag(135)\n",
    "            stream.download(SAVE_PATH)\n",
    "            print('Task Completed!') \n",
    "        except:\n",
    "            try:\n",
    "                stream = yt.streams.get_by_itag(18)\n",
    "                stream.download(SAVE_PATH)\n",
    "                print('Task Completed!')             \n",
    "            except:\n",
    "                print(\"Some Error!\") \n",
    "print('Full Task Completed!') "
   ]
  },
  {
   "cell_type": "code",
   "execution_count": 11,
   "metadata": {},
   "outputs": [
    {
     "data": {
      "text/plain": [
       "[<Stream: itag=\"18\" mime_type=\"video/mp4\" res=\"360p\" fps=\"25fps\" vcodec=\"avc1.42001E\" acodec=\"mp4a.40.2\" progressive=\"True\" type=\"video\">, <Stream: itag=\"135\" mime_type=\"video/mp4\" res=\"480p\" fps=\"25fps\" vcodec=\"avc1.4d401e\" progressive=\"False\" type=\"video\">, <Stream: itag=\"134\" mime_type=\"video/mp4\" res=\"360p\" fps=\"25fps\" vcodec=\"avc1.4d401e\" progressive=\"False\" type=\"video\">, <Stream: itag=\"133\" mime_type=\"video/mp4\" res=\"240p\" fps=\"25fps\" vcodec=\"avc1.4d400c\" progressive=\"False\" type=\"video\">, <Stream: itag=\"160\" mime_type=\"video/mp4\" res=\"144p\" fps=\"25fps\" vcodec=\"avc1.4d400b\" progressive=\"False\" type=\"video\">, <Stream: itag=\"140\" mime_type=\"audio/mp4\" abr=\"128kbps\" acodec=\"mp4a.40.2\" progressive=\"False\" type=\"audio\">]"
      ]
     },
     "execution_count": 11,
     "metadata": {},
     "output_type": "execute_result"
    }
   ],
   "source": [
    "yt = YouTube('https://www.youtube.com/watch?v=FLM1LMuBs2o') \n",
    "yt.streams.filter(file_extension='mp4')"
   ]
  },
  {
   "cell_type": "markdown",
   "metadata": {},
   "source": [
    "## Automated from Search Query- needs work"
   ]
  },
  {
   "cell_type": "code",
   "execution_count": 16,
   "metadata": {},
   "outputs": [],
   "source": [
    "def get_urls(text, limit=10):\n",
    "    '''Return list of youtube urls based on search query'''\n",
    "    query = urllib.parse.quote(text)\n",
    "    url = \"https://www.youtube.com/results?search_query=\" + query\n",
    "    response = urllib.request.urlopen(url)\n",
    "    html = response.read()\n",
    "    soup = BeautifulSoup(html, 'html.parser')\n",
    "    urls = []\n",
    "    for i, vid in enumerate(soup.findAll(attrs={'class':'yt-uix-tile-link'})):\n",
    "        if i < limit:\n",
    "            urls.append('https://www.youtube.com' + vid['href'])\n",
    "    print(f\"Found {len(urls)} video links for {text}\")\n",
    "    return urls\n",
    "\n",
    "def download_video(url, path=None, max_duration=10):\n",
    "    '''download videos based on urls through pytube'''\n",
    "      try:\n",
    "        yt = YouTube(url)\n",
    "        duration = int(yt.player_config_args['player_response']['streamingData']['formats'][0]['approxDurationMs'])\n",
    "        if duration < max_duration*60*1000:\n",
    "            yt = yt.streams.filter(file_extension='mp4').first()\n",
    "            out_file = yt.download(path)\n",
    "            file_name = out_file.split(\"\\\\\")[-1]\n",
    "            print(f\"Downloaded {file_name} correctly!\")\n",
    "        else:\n",
    "            print(f\"Video {url} too long\")\n",
    "      except Exception as exc:\n",
    "        print(f\"Download of {url} did not work because of {exc}...\")\n",
    "        \n",
    "def extract_images_from_video(video, folder=None, delay=30, name=\"file\", max_images=20, silent=False):    \n",
    "    '''use opencv to extract images from video file'''\n",
    "    vidcap = cv2.VideoCapture(video)\n",
    "    count = 0\n",
    "    num_images = 0\n",
    "    if not folder:\n",
    "        folder = os.getcwd()\n",
    "    label = max_label(name, folder)\n",
    "    success = True\n",
    "    fps = int(vidcap.get(cv2.CAP_PROP_FPS))\n",
    "    \n",
    "    while success and num_images < max_images:\n",
    "        success, image = vidcap.read()\n",
    "        num_images += 1\n",
    "        label += 1\n",
    "        file_name = name + \"_\" + str(label) + \".jpg\"\n",
    "        path = os.path.join(folder, file_name)\n",
    "        cv2.imwrite(path, image)\n",
    "        if cv2.imread(path) is None:\n",
    "            os.remove(path)\n",
    "        else:\n",
    "            if not silent:\n",
    "                print(f'Image successfully written at {path}')\n",
    "        count += delay*fps\n",
    "        vidcap.set(1, count)\n",
    "        \n",
    "def extract_images_from_word(text, delete_video=False, image_delay=30, \n",
    "                             num_urls=10, max_images=20, name=\"youtube_scraping\", max_duration=15, silent=False):\n",
    "    '''main function to extract images from youtube videos based on search query'''\n",
    "    \n",
    "    if not os.path.exists(name):\n",
    "        os.mkdir(name)\n",
    "    urls = get_urls(text, num_urls)\n",
    "    for url in urls:\n",
    "        download_video(url, max_duration=max_duration)\n",
    "    for i, video in enumerate(glob.glob(\"*.mp4\")):\n",
    "        extract_images_from_video(video, folder=name, delay=image_delay, name=name, max_images=max_images, silent=silent)\n",
    "        if delete_video:\n",
    "            os.remove(video)"
   ]
  },
  {
   "cell_type": "code",
   "execution_count": null,
   "metadata": {},
   "outputs": [],
   "source": []
  }
 ],
 "metadata": {
  "kernelspec": {
   "display_name": "Python 3",
   "language": "python",
   "name": "python3"
  },
  "language_info": {
   "codemirror_mode": {
    "name": "ipython",
    "version": 3
   },
   "file_extension": ".py",
   "mimetype": "text/x-python",
   "name": "python",
   "nbconvert_exporter": "python",
   "pygments_lexer": "ipython3",
   "version": "3.8.5"
  }
 },
 "nbformat": 4,
 "nbformat_minor": 4
}
